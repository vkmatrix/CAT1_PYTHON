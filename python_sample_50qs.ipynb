{
 "cells": [
  {
   "cell_type": "markdown",
   "id": "3b254f22",
   "metadata": {},
   "source": [
    "# BASIC EXERCISES"
   ]
  },
  {
   "cell_type": "code",
   "execution_count": 67,
   "id": "4db05996",
   "metadata": {},
   "outputs": [
    {
     "name": "stdout",
     "output_type": "stream",
     "text": [
      "Hello World\n"
     ]
    }
   ],
   "source": [
    "#1\n",
    "print(\"Hello World\")"
   ]
  },
  {
   "cell_type": "code",
   "execution_count": 4,
   "id": "36759a3e",
   "metadata": {},
   "outputs": [
    {
     "name": "stdout",
     "output_type": "stream",
     "text": [
      "enter a:2\n",
      "enter b:3\n",
      "sum= 5\n"
     ]
    }
   ],
   "source": [
    "#2\n",
    "a=int(input(\"enter a:\"))\n",
    "b=int(input(\"enter b:\"))\n",
    "sum=a+b\n",
    "print(\"sum=\",sum)"
   ]
  },
  {
   "cell_type": "code",
   "execution_count": 11,
   "id": "d6b6b970",
   "metadata": {},
   "outputs": [
    {
     "name": "stdout",
     "output_type": "stream",
     "text": [
      "before swap a= 10 b= 20\n",
      "after swap a= 20 b= 10\n"
     ]
    }
   ],
   "source": [
    "#3\n",
    "a=10\n",
    "b=20\n",
    "print(\"before swap\",\"a=\",a,\"b=\",b)\n",
    "a,b=b,a\n",
    "print(\"after swap\",\"a=\",a,\"b=\",b)\n"
   ]
  },
  {
   "cell_type": "code",
   "execution_count": 14,
   "id": "318b7a49",
   "metadata": {},
   "outputs": [
    {
     "name": "stdout",
     "output_type": "stream",
     "text": [
      "enter kilometers:12\n",
      "miles= 7.4564520000000005\n"
     ]
    }
   ],
   "source": [
    "#4\n",
    "k=int(input(\"enter kilometers:\"))\n",
    "miles=0.621371*k\n",
    "print(\"miles=\",miles)"
   ]
  },
  {
   "cell_type": "code",
   "execution_count": 16,
   "id": "a21581b1",
   "metadata": {},
   "outputs": [
    {
     "name": "stdout",
     "output_type": "stream",
     "text": [
      "enter number:4\n",
      "number is even\n"
     ]
    }
   ],
   "source": [
    "#5\n",
    "n=int(input(\"enter number:\"))\n",
    "if(n==0):\n",
    "    print(\"number is zero\")\n",
    "elif(n%2==0):\n",
    "    print(\"number is even\")\n",
    "elif(n%2==1):\n",
    "    print(\"number is odd\")"
   ]
  },
  {
   "cell_type": "code",
   "execution_count": 18,
   "id": "425ccf87",
   "metadata": {},
   "outputs": [
    {
     "name": "stdout",
     "output_type": "stream",
     "text": [
      "enter year:2020\n",
      "2020 is a leap year\n"
     ]
    }
   ],
   "source": [
    "#6\n",
    "year = int(input(\"enter year:\"))\n",
    "if (year % 400 == 0) and (year % 100 == 0):\n",
    "    print(year,\"is a leap year\")\n",
    "elif (year % 4 ==0) and (year % 100 != 0):\n",
    "    print(year,\"is a leap year\")\n",
    "else:\n",
    "    print(year,\"is not a leap year\")"
   ]
  },
  {
   "cell_type": "code",
   "execution_count": 26,
   "id": "f69b28bb",
   "metadata": {},
   "outputs": [
    {
     "name": "stdout",
     "output_type": "stream",
     "text": [
      "enter lower limit:2\n",
      "enter upper limit:20\n",
      "Prime numbers between 2 and 20 are:\n",
      "2\n",
      "3\n",
      "5\n",
      "7\n",
      "11\n",
      "13\n",
      "17\n",
      "19\n"
     ]
    }
   ],
   "source": [
    "#7\n",
    "\n",
    "lower=int(input(\"enter lower limit:\"))\n",
    "upper=int(input(\"enter upper limit:\"))\n",
    "\n",
    "print(\"Prime numbers between\", lower, \"and\", upper, \"are:\")\n",
    "\n",
    "for num in range(lower, upper + 1):\n",
    "   if num > 1:\n",
    "       for i in range(2, num):\n",
    "           if (num % i) == 0:\n",
    "               break\n",
    "       else:\n",
    "           print(num)\n"
   ]
  },
  {
   "cell_type": "code",
   "execution_count": 29,
   "id": "be855917",
   "metadata": {},
   "outputs": [
    {
     "name": "stdout",
     "output_type": "stream",
     "text": [
      "How many terms? 5\n",
      "Fibonacci sequence:\n",
      "0\n",
      "1\n",
      "1\n",
      "2\n",
      "3\n"
     ]
    }
   ],
   "source": [
    "#8\n",
    "n= int(input(\"How many terms? \"))\n",
    "n1, n2 = 0, 1\n",
    "count = 0\n",
    "if n<= 0:\n",
    "   print(\"Please enter a valid positive integer\")\n",
    "elif n== 1:\n",
    "   print(\"Fibonacci sequence upto\",nterms,\":\")\n",
    "   print(n1)\n",
    "\n",
    "else:\n",
    "   print(\"Fibonacci sequence:\")\n",
    "   while count < n:\n",
    "       print(n1)\n",
    "       nth = n1 + n2\n",
    "       n1 = n2\n",
    "       n2 = nth\n",
    "       count += 1"
   ]
  },
  {
   "cell_type": "code",
   "execution_count": 31,
   "id": "87b372f7",
   "metadata": {},
   "outputs": [
    {
     "name": "stdout",
     "output_type": "stream",
     "text": [
      "enter number:153\n",
      "Armstrong Number\n"
     ]
    }
   ],
   "source": [
    "#9\n",
    "number =int(input(\"enter number:\"))\n",
    "temp = number\n",
    "sum = 0\n",
    "while temp!=0:\n",
    "    k = temp%10\n",
    "    sum +=k*k*k\n",
    "    temp = temp//10\n",
    "if sum==number:\n",
    "    print('Armstrong Number')\n",
    "else:\n",
    "    print('Not a Armstrong Number')"
   ]
  },
  {
   "cell_type": "code",
   "execution_count": 34,
   "id": "c29816cd",
   "metadata": {},
   "outputs": [
    {
     "name": "stdout",
     "output_type": "stream",
     "text": [
      "enter number upto u want to generate sum:20\n",
      "sum= 210\n"
     ]
    }
   ],
   "source": [
    "#10\n",
    "n=int(input(\"enter number upto u want to generate sum:\"))\n",
    "i=1\n",
    "sum=0\n",
    "while(i<=n):\n",
    "    sum=sum+i\n",
    "    i=i+1\n",
    "print(\"sum=\",sum)\n",
    "    "
   ]
  },
  {
   "cell_type": "code",
   "execution_count": 35,
   "id": "8da1d7c2",
   "metadata": {},
   "outputs": [
    {
     "name": "stdout",
     "output_type": "stream",
     "text": [
      "*\n",
      "**\n",
      "***\n",
      "****\n",
      "*****\n"
     ]
    }
   ],
   "source": [
    "#11\n",
    "rows=5\n",
    "i=1\n",
    "while(i<=5):\n",
    "    print(\"*\"*i)\n",
    "    i=i+1\n"
   ]
  },
  {
   "cell_type": "code",
   "execution_count": 36,
   "id": "f885d100",
   "metadata": {},
   "outputs": [],
   "source": [
    "#12\n",
    "\n"
   ]
  },
  {
   "cell_type": "code",
   "execution_count": 45,
   "id": "d7b2a9d5",
   "metadata": {},
   "outputs": [
    {
     "name": "stdout",
     "output_type": "stream",
     "text": [
      "enter total elements of list:4\n",
      "enter the element one by one:5\n",
      "enter the element one by one:10\n",
      "enter the element one by one:32\n",
      "enter the element one by one:21\n",
      "element divisible by 5 are:\n",
      "5\n",
      "10\n"
     ]
    }
   ],
   "source": [
    "#13\n",
    "a=[]\n",
    "n=int(input(\"enter total elements of list:\"))\n",
    "for i in range(0,n):\n",
    "    x=int(input(\"enter the element one by one:\"))\n",
    "    a.append(x)\n",
    "print(\"element divisible by 5 are:\")\n",
    "for i in range(len(a)):\n",
    "    if(a[i]%5==0):\n",
    "        print(a[i])\n",
    "    else:\n",
    "        continue\n",
    "\n"
   ]
  },
  {
   "cell_type": "code",
   "execution_count": 46,
   "id": "52591e52",
   "metadata": {},
   "outputs": [
    {
     "name": "stdout",
     "output_type": "stream",
     "text": [
      "hi is present 1 times in heirarchial\n"
     ]
    }
   ],
   "source": [
    "#14\n",
    "a=\"heirarchial\"\n",
    "b='hi'\n",
    "print(\"hi is present\",a.count(b),\"times in heirarchial\")"
   ]
  },
  {
   "cell_type": "code",
   "execution_count": 59,
   "id": "d3a8046e",
   "metadata": {},
   "outputs": [
    {
     "name": "stdout",
     "output_type": "stream",
     "text": [
      "1\n",
      "12\n",
      "123\n",
      "1234\n",
      "12345\n"
     ]
    }
   ],
   "source": [
    "#15\n",
    "n=5\n",
    "for i in range(1,n+1):\n",
    "    for j in range(1, i+1):\n",
    "        print(j, end=\"\")\n",
    "    print()\n",
    "    \n",
    "    "
   ]
  },
  {
   "cell_type": "code",
   "execution_count": 89,
   "id": "99783169",
   "metadata": {},
   "outputs": [
    {
     "name": "stdout",
     "output_type": "stream",
     "text": [
      "Enter number:454\n",
      "The number is a palindrome!\n"
     ]
    }
   ],
   "source": [
    "#16\n",
    "n=int(input(\"Enter number:\"))\n",
    "temp=n\n",
    "rev=0\n",
    "while(n>0):\n",
    "    dig=n%10\n",
    "    rev=rev*10+dig\n",
    "    n=n//10\n",
    "if(temp==rev):\n",
    "    print(\"The number is a palindrome!\")\n",
    "else:\n",
    "    print(\"The number isn't a palindrome!\")\n",
    "    \n",
    "\n"
   ]
  },
  {
   "cell_type": "markdown",
   "id": "8bf0f584",
   "metadata": {},
   "source": [
    "# LIST EXERCISES\n"
   ]
  },
  {
   "cell_type": "code",
   "execution_count": 2,
   "id": "3d348a60",
   "metadata": {},
   "outputs": [
    {
     "data": {
      "text/plain": [
       "[5, 2, 3, 4, 1]"
      ]
     },
     "execution_count": 2,
     "metadata": {},
     "output_type": "execute_result"
    }
   ],
   "source": [
    "#interchanging first and last position of a list\n",
    "l=[1,2,3,4,5]\n",
    "x=l.pop()\n",
    "y=l[0]\n",
    "del l[0]\n",
    "l.append(y)\n",
    "l.insert(0,x)\n",
    "l\n",
    "\n"
   ]
  },
  {
   "cell_type": "code",
   "execution_count": 3,
   "id": "0a2eb673",
   "metadata": {},
   "outputs": [
    {
     "data": {
      "text/plain": [
       "[2, 1, 3, 4, 5]"
      ]
     },
     "execution_count": 3,
     "metadata": {},
     "output_type": "execute_result"
    }
   ],
   "source": [
    "#swap two elements in a list\n",
    "l=[1,2,3,4,5]\n",
    "l[0],l[1]=l[1],l[0] # first and second position elements are swapped\n",
    "l"
   ]
  },
  {
   "cell_type": "code",
   "execution_count": 7,
   "id": "1b160605",
   "metadata": {},
   "outputs": [
    {
     "name": "stdout",
     "output_type": "stream",
     "text": [
      "length of list is: 5\n",
      "length of list: 5\n"
     ]
    }
   ],
   "source": [
    "#various ways to find length of list\n",
    "#using len() function\n",
    "l=[1,2,3,4,5]\n",
    "print(\"length of list is:\",len(l))\n",
    "#using for loop\n",
    "for i in l:\n",
    "    count=i\n",
    "print(\"length of list:\",count)\n"
   ]
  },
  {
   "cell_type": "code",
   "execution_count": 8,
   "id": "1697cec9",
   "metadata": {},
   "outputs": [
    {
     "data": {
      "text/plain": [
       "5"
      ]
     },
     "execution_count": 8,
     "metadata": {},
     "output_type": "execute_result"
    }
   ],
   "source": [
    "#maximum of list in python\n",
    "l=[1,2,3,4,5]\n",
    "max(l)\n"
   ]
  },
  {
   "cell_type": "code",
   "execution_count": 9,
   "id": "89c27475",
   "metadata": {},
   "outputs": [
    {
     "data": {
      "text/plain": [
       "1"
      ]
     },
     "execution_count": 9,
     "metadata": {},
     "output_type": "execute_result"
    }
   ],
   "source": [
    "#minimum of list in python\n",
    "l=[1,2,3,4,5]\n",
    "min(l)\n"
   ]
  },
  {
   "cell_type": "markdown",
   "id": "d9fe00ef",
   "metadata": {},
   "source": [
    "# STRING EXERCISES"
   ]
  },
  {
   "cell_type": "code",
   "execution_count": 12,
   "id": "1bf3a069",
   "metadata": {},
   "outputs": [
    {
     "name": "stdout",
     "output_type": "stream",
     "text": [
      "Enter string:PTUTP\n",
      "The string is a palindrome\n"
     ]
    }
   ],
   "source": [
    "#given string is a palindrome or not\n",
    "string=input(\"Enter string:\")\n",
    "if(string==string[::-1]):\n",
    "      print(\"The string is a palindrome\")\n",
    "else:\n",
    "      print(\"The string is not a palindrome\")"
   ]
  },
  {
   "cell_type": "code",
   "execution_count": 20,
   "id": "acd3cb96",
   "metadata": {},
   "outputs": [
    {
     "name": "stdout",
     "output_type": "stream",
     "text": [
      "Enter string:hii\n",
      "reversed string is: iih\n"
     ]
    }
   ],
   "source": [
    "#reverse letters in a given string\n",
    "string=input(\"Enter string:\")\n",
    "print(\"reversed string is:\",string[::-1])"
   ]
  },
  {
   "cell_type": "code",
   "execution_count": 26,
   "id": "cd60a247",
   "metadata": {},
   "outputs": [
    {
     "name": "stdout",
     "output_type": "stream",
     "text": [
      "enter string:ipynb\n",
      "enter index to be removed:0\n"
     ]
    },
    {
     "data": {
      "text/plain": [
       "'pynb'"
      ]
     },
     "execution_count": 26,
     "metadata": {},
     "output_type": "execute_result"
    }
   ],
   "source": [
    "#ways to remove iTH charecter from a string in python\n",
    "def remove(str,i):\n",
    "    str1=str[:i]\n",
    "    str2=str[i+1:]\n",
    "    return str1+str2\n",
    "str=input(\"enter string:\")\n",
    "i=int(input(\"enter index to be removed:\"))\n",
    "remove(str,i)\n",
    "    "
   ]
  },
  {
   "cell_type": "markdown",
   "id": "5b9ddc0e",
   "metadata": {},
   "source": [
    "# TUPLE EXERCISES"
   ]
  },
  {
   "cell_type": "code",
   "execution_count": 27,
   "id": "b940096e",
   "metadata": {},
   "outputs": [
    {
     "data": {
      "text/plain": [
       "5"
      ]
     },
     "execution_count": 27,
     "metadata": {},
     "output_type": "execute_result"
    }
   ],
   "source": [
    "#finding size of tuple\n",
    "t=1,2,3,4,'a'\n",
    "len(t)"
   ]
  },
  {
   "cell_type": "code",
   "execution_count": 29,
   "id": "15d63693",
   "metadata": {},
   "outputs": [
    {
     "name": "stdout",
     "output_type": "stream",
     "text": [
      "max= 5\n",
      "min= 1\n"
     ]
    }
   ],
   "source": [
    "#maximum and minimum elements of tuple\n",
    "t=1,2,3,4,5\n",
    "print(\"max=\",max(t))\n",
    "print(\"min=\",min(t))"
   ]
  },
  {
   "cell_type": "code",
   "execution_count": 30,
   "id": "eeff64ea",
   "metadata": {},
   "outputs": [
    {
     "name": "stdout",
     "output_type": "stream",
     "text": [
      "sum= 15\n"
     ]
    }
   ],
   "source": [
    "#sum of elements of tuple\n",
    "t=1,2,3,4,5\n",
    "print(\"sum=\",sum(t))"
   ]
  },
  {
   "cell_type": "markdown",
   "id": "18a69b34",
   "metadata": {},
   "source": [
    "# SET EXERCISES"
   ]
  },
  {
   "cell_type": "code",
   "execution_count": 32,
   "id": "650dbaea",
   "metadata": {},
   "outputs": [
    {
     "name": "stdout",
     "output_type": "stream",
     "text": [
      "length of set is: 4\n"
     ]
    }
   ],
   "source": [
    "#finding size of set in python\n",
    "s={2,3,'a',98}\n",
    "print(\"length of set is:\",len(s))"
   ]
  },
  {
   "cell_type": "code",
   "execution_count": 43,
   "id": "6f5ea8d4",
   "metadata": {},
   "outputs": [
    {
     "name": "stdout",
     "output_type": "stream",
     "text": [
      "the set elements are:\n"
     ]
    },
    {
     "data": {
      "text/plain": [
       "{2, 3, 98, 'a'}"
      ]
     },
     "execution_count": 43,
     "metadata": {},
     "output_type": "execute_result"
    }
   ],
   "source": [
    "#iterate over a set in python\n",
    "s={2,3,'a',98}\n",
    "print(\"the set elements are:\")\n",
    "s"
   ]
  },
  {
   "cell_type": "markdown",
   "id": "0744905b",
   "metadata": {},
   "source": [
    "# DICTIONARY EXERCISES"
   ]
  },
  {
   "cell_type": "code",
   "execution_count": 44,
   "id": "b327242a",
   "metadata": {},
   "outputs": [
    {
     "name": "stdout",
     "output_type": "stream",
     "text": [
      "{1: 1, 3: 4, 2: 9}\n"
     ]
    }
   ],
   "source": [
    "#sorting a python dictionary by key/value\n",
    "dict1 = {1: 1, 2: 9, 3: 4}\n",
    "sorted_values = sorted(dict1.values()) \n",
    "sorted_dict = {}\n",
    "\n",
    "for i in sorted_values:\n",
    "    for k in dict1.keys():\n",
    "        if dict1[k] == i:\n",
    "            sorted_dict[k] = dict1[k]\n",
    "            break\n",
    "\n",
    "print(sorted_dict)"
   ]
  },
  {
   "cell_type": "code",
   "execution_count": 45,
   "id": "4a666123",
   "metadata": {},
   "outputs": [
    {
     "name": "stdout",
     "output_type": "stream",
     "text": [
      "The dictionary is :\n",
      "{(4, 3, 2): 5, (5, 4, 11): -2}\n"
     ]
    }
   ],
   "source": [
    "#python dictionary with keys having multiple inputs\n",
    "my_dict = {}\n",
    "\n",
    "a, b, c = 4, 3, 2\n",
    "my_dict[a, b, c] = a + b - c\n",
    "\n",
    "a, b, c = 5, 4, 11\n",
    "my_dict[a, b, c] = a + b - c\n",
    "\n",
    "print(\"The dictionary is :\")\n",
    "print(my_dict)"
   ]
  },
  {
   "cell_type": "markdown",
   "id": "5a1a6204",
   "metadata": {},
   "source": [
    "# FUNCTION EXERCISES "
   ]
  },
  {
   "cell_type": "code",
   "execution_count": 47,
   "id": "80c44f3e",
   "metadata": {},
   "outputs": [
    {
     "data": {
      "text/plain": [
       "<Signature (a, b)>"
      ]
     },
     "execution_count": 47,
     "metadata": {},
     "output_type": "execute_result"
    }
   ],
   "source": [
    "#how to get the list of parameters name from a function in python\n",
    "def func(a,b):\n",
    "    return a/b\n",
    "import inspect   #by importing inspect module and using signature function\n",
    "inspect.signature(func)"
   ]
  },
  {
   "cell_type": "code",
   "execution_count": 50,
   "id": "f072c869",
   "metadata": {},
   "outputs": [
    {
     "name": "stdout",
     "output_type": "stream",
     "text": [
      "8\n"
     ]
    }
   ],
   "source": [
    "#finding the power of a number using recursion\n",
    "def power(base, p):\n",
    "    if p == 0:  # base condition\n",
    "        return 1\n",
    "    else:\n",
    "        return (base*power(base,p-1)) \n",
    " \n",
    "base=2\n",
    "p=3\n",
    "\n",
    " \n",
    "print(power(base,p))"
   ]
  },
  {
   "cell_type": "markdown",
   "id": "d5418b13",
   "metadata": {},
   "source": [
    "# MATRIX EXERCISES"
   ]
  },
  {
   "cell_type": "code",
   "execution_count": 65,
   "id": "418b3301",
   "metadata": {},
   "outputs": [],
   "source": [
    "#ASSIGNING SUBSEQUENT ROWS TO MATRIX FIRST ROW ELEMENTS\n"
   ]
  },
  {
   "cell_type": "code",
   "execution_count": 66,
   "id": "57ece2d3",
   "metadata": {},
   "outputs": [
    {
     "name": "stdout",
     "output_type": "stream",
     "text": [
      "ADDED MATRIX IS:\n",
      "[[17, 15, 4], [10, 12, 9], [11, 13, 18]]\n",
      "SUBTRACTED MATRIX IS:\n",
      "[[7, -1, 2], [-2, -2, 3], [3, 3, 0]]\n"
     ]
    }
   ],
   "source": [
    "#ADDITION AND SUBTRACTTION OF MATRICES\n",
    "A = [[12,7,3],\n",
    "    [4 ,5,6],\n",
    "    [7 ,8,9]]\n",
    "\n",
    "B = [[5,8,1],\n",
    "    [6,7,3],\n",
    "    [4,5,9]]\n",
    "C=[[0,0,0],[0,0,0],[0,0,0]]\n",
    "D=[[0,0,0],[0,0,0],[0,0,0]]\n",
    "for i in range(len(A)):\n",
    "    for j in range(len(B)):\n",
    "        C[i][j]=A[i][j]+B[i][j]\n",
    "        D[i][j]=A[i][j]-B[i][j]\n",
    "print(\"ADDED MATRIX IS:\")\n",
    "print(C)\n",
    "print(\"SUBTRACTED MATRIX IS:\")\n",
    "print(D)\n"
   ]
  },
  {
   "cell_type": "code",
   "execution_count": null,
   "id": "5f88b155",
   "metadata": {},
   "outputs": [],
   "source": []
  }
 ],
 "metadata": {
  "kernelspec": {
   "display_name": "Python 3 (ipykernel)",
   "language": "python",
   "name": "python3"
  },
  "language_info": {
   "codemirror_mode": {
    "name": "ipython",
    "version": 3
   },
   "file_extension": ".py",
   "mimetype": "text/x-python",
   "name": "python",
   "nbconvert_exporter": "python",
   "pygments_lexer": "ipython3",
   "version": "3.9.12"
  }
 },
 "nbformat": 4,
 "nbformat_minor": 5
}
